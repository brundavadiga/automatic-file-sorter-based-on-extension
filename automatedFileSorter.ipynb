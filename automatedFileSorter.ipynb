{
 "cells": [
  {
   "cell_type": "code",
   "execution_count": null,
   "id": "81784f95",
   "metadata": {},
   "outputs": [],
   "source": [
    "import os, shutil"
   ]
  },
  {
   "cell_type": "code",
   "execution_count": null,
   "id": "76e06759",
   "metadata": {},
   "outputs": [],
   "source": [
    "#Path of the directory\n",
    "path = r'C:\\Users\\Documents\\crop yield prediction/'"
   ]
  },
  {
   "cell_type": "code",
   "execution_count": null,
   "id": "eab60df1",
   "metadata": {},
   "outputs": [],
   "source": [
    "#lists all the files inside the directory\n",
    "files = os.listdir(path)\n",
    "print(f\"This directory contains {len(files)} files.\")\n",
    "files"
   ]
  },
  {
   "cell_type": "code",
   "execution_count": null,
   "id": "484f0986",
   "metadata": {},
   "outputs": [],
   "source": [
    "folder_names = ['pdf files', 'csv files', 'xlsx files', 'html files']"
   ]
  },
  {
   "cell_type": "code",
   "execution_count": null,
   "id": "20916f13",
   "metadata": {},
   "outputs": [],
   "source": [
    "os.path.exists(path + '\\datasets')"
   ]
  },
  {
   "cell_type": "code",
   "execution_count": null,
   "id": "86ad9f16",
   "metadata": {},
   "outputs": [],
   "source": [
    "for each in range(len(folder_names)):\n",
    "    if not os.path.exists(path + folder_names[each]):\n",
    "        os.makedirs(path + folder_names[each])"
   ]
  },
  {
   "cell_type": "code",
   "execution_count": null,
   "id": "092666e7",
   "metadata": {},
   "outputs": [],
   "source": [
    "for file in files:\n",
    "    if '.pdf' in file and not os.path.exists(path + 'pdf files' + '/' + file):\n",
    "        shutil.move(path + '/' + file, path + 'pdf files' + '/' + file)  \n",
    "    elif '.csv' in file and not os.path.exists(path + 'csv files' + '/' + file):\n",
    "        shutil.move(path + '/' + file, path + 'csv files' + '/' + file)\n",
    "    elif '.xlsx' in file and not os.path.exists(path + 'xlsx files' + '/' + file):\n",
    "        shutil.move(path + '/' + file, path + 'xlsx files' + '/' + file)\n",
    "    elif '.html' in file and not os.path.exists(path + 'html files' + '/' + file):\n",
    "        shutil.move(path + '/' + file, path + 'html files' + '/' + file)\n",
    "    else:\n",
    "        continue"
   ]
  },
  {
   "cell_type": "code",
   "execution_count": null,
   "id": "216252ec",
   "metadata": {},
   "outputs": [],
   "source": []
  }
 ],
 "metadata": {
  "kernelspec": {
   "display_name": "Python 3 (ipykernel)",
   "language": "python",
   "name": "python3"
  },
  "language_info": {
   "codemirror_mode": {
    "name": "ipython",
    "version": 3
   },
   "file_extension": ".py",
   "mimetype": "text/x-python",
   "name": "python",
   "nbconvert_exporter": "python",
   "pygments_lexer": "ipython3",
   "version": "3.10.9"
  }
 },
 "nbformat": 4,
 "nbformat_minor": 5
}
